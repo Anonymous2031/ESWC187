{
 "cells": [
  {
   "cell_type": "markdown",
   "id": "177fcfd2-2d92-4b87-a6c6-c1f253dede08",
   "metadata": {},
   "source": [
    "# Get Predictions from RE Model "
   ]
  },
  {
   "cell_type": "code",
   "execution_count": 4,
   "id": "5ee84488-c2b1-44e4-8358-d3bb9e461ba1",
   "metadata": {},
   "outputs": [
    {
     "name": "stdout",
     "output_type": "stream",
     "text": [
      "/home/mourekouch/ESWC187/Initial_Predictions/model.py:21: FutureWarning: `torch.cuda.amp.autocast(args...)` is deprecated. Please use `torch.amp.autocast('cuda', args...)` instead.\n",
      "  @autocast()\n",
      "Initializing device...\n",
      "Using device: GPU\n",
      "[LOG] Loading model and tokenizer...\n",
      "2025-03-06 13:06:22.226423: I tensorflow/core/platform/cpu_feature_guard.cc:182] This TensorFlow binary is optimized to use available CPU instructions in performance-critical operations.\n",
      "To enable the following instructions: AVX2 FMA, in other operations, rebuild TensorFlow with the appropriate compiler flags.\n",
      "2025-03-06 13:06:22.907495: W tensorflow/compiler/tf2tensorrt/utils/py_utils.cc:38] TF-TRT Warning: Could not find TensorRT\n",
      "Some weights of RobertaModel were not initialized from the model checkpoint at roberta-large and are newly initialized: ['roberta.pooler.dense.bias', 'roberta.pooler.dense.weight']\n",
      "You should probably TRAIN this model on a down-stream task to be able to use it for predictions and inference.\n",
      "/home/mourekouch/ESWC187/Initial_Predictions/Get_Predictions.py:30: FutureWarning: You are using `torch.load` with `weights_only=False` (the current default value), which uses the default pickle module implicitly. It is possible to construct malicious pickle data which will execute arbitrary code during unpickling (See https://github.com/pytorch/pytorch/blob/main/SECURITY.md#untrusted-models for more details). In a future release, the default value for `weights_only` will be flipped to `True`. This limits the functions that could be executed during unpickling. Arbitrary objects will no longer be allowed to be loaded via this mode unless they are explicitly allowlisted by the user via `torch.serialization.add_safe_globals`. We recommend you start setting `weights_only=True` for any use case where you don't have full control of the loaded file. Please open an issue on GitHub for any issues related to this experimental feature.\n",
      "  model.load_state_dict(torch.load(check_model, map_location=device))\n",
      "[LOG] Model and tokenizer loaded successfully.\n",
      "[LOG] Reading test JSON file from: ./Dataset/ReTACRED/test.json\n",
      "[LOG] Initializing data processor for dataset...\n",
      "100%|████████████████████████████████████| 13418/13418 [00:14<00:00, 929.77it/s]\n",
      "[LOG] Test dataset processing time: 15.00 seconds\n",
      "[LOG] Running inference on test dataset...\n",
      "[LOG] Test dataset inference time: 26.36 seconds\n",
      "\n",
      "Test Set Evaluation Complete:\n",
      "  Precision: 90.58%\n",
      "  Recall:    90.93%\n",
      "  F1:        90.76%\n",
      "  Inference time: 26.36 seconds\n",
      "[LOG] Matching predictions with original test data...\n",
      "[LOG] File successfully saved at: ./Predictions/Initial_predictions.csv\n"
     ]
    }
   ],
   "source": [
    "!python3 Get_Predictions.py --model_name_or_path  \"roberta-large\" --check_model \"./Models/RoBERTa/roberta-large.bin\" --test_path ./Dataset/ReTACRED/test.json  --predictions_path ./Predictions/Initial_predictions.csv  --dataset_type RETACRED"
   ]
  }
 ],
 "metadata": {
  "kernelspec": {
   "display_name": "Python 3 (ipykernel)",
   "language": "python",
   "name": "python3"
  },
  "language_info": {
   "codemirror_mode": {
    "name": "ipython",
    "version": 3
   },
   "file_extension": ".py",
   "mimetype": "text/x-python",
   "name": "python",
   "nbconvert_exporter": "python",
   "pygments_lexer": "ipython3",
   "version": "3.10.12"
  }
 },
 "nbformat": 4,
 "nbformat_minor": 5
}
