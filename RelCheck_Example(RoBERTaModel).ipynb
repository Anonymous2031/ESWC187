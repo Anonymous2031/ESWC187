{
 "cells": [
  {
   "cell_type": "markdown",
   "id": "98b91d47-bfd8-42dc-829a-13838a59f034",
   "metadata": {},
   "source": [
    "### Construct Ontology schema ( ReTACRED CASE)"
   ]
  },
  {
   "cell_type": "code",
   "execution_count": 5,
   "id": "723cdb9e-70f9-46c5-94a1-3968e3ee6200",
   "metadata": {},
   "outputs": [
    {
     "name": "stdout",
     "output_type": "stream",
     "text": [
      "Ontology schema saved to Schemas/ReTACRED_Schema.json\n"
     ]
    }
   ],
   "source": [
    "!python3 0_GenerateSchema.py --input_dataset Initial_Predictions/Dataset/ReTACRED/train.json --output_schema Schemas/ReTACRED_Schema.json"
   ]
  },
  {
   "cell_type": "markdown",
   "id": "5bdbb5de-06d1-47f3-bef3-7532581e79bf",
   "metadata": {},
   "source": [
    "### Ontology Validation ( RoBERTa Model predictions on ReTACRED test set)"
   ]
  },
  {
   "cell_type": "code",
   "execution_count": 10,
   "id": "1a13eda3-cf69-46ab-a17c-65a64aabcbac",
   "metadata": {},
   "outputs": [
    {
     "name": "stdout",
     "output_type": "stream",
     "text": [
      "Finished with 9 ontology violations detected\n",
      "Time taken for validation: 0.61 seconds\n"
     ]
    }
   ],
   "source": [
    "!python3 1_Ontology_Validation.py --input_predictions  ./Initial_Predictions/Predictions/Initial_predictions.csv --ontology_schema Schemas/ReTACRED_Schema.json --threshold 1  --output_validated  ./Revised_Predictions/Post-Ontology_Predictions.csv"
   ]
  },
  {
   "cell_type": "markdown",
   "id": "314fc936-5289-4d1f-932f-59a59c243b16",
   "metadata": {},
   "source": [
    "### LLM Based Validation ( gpt4o API )"
   ]
  },
  {
   "cell_type": "code",
   "execution_count": 27,
   "id": "1973e69f-116d-4a51-b4e9-5ee80b79921e",
   "metadata": {},
   "outputs": [
    {
     "name": "stdout",
     "output_type": "stream",
     "text": [
      "Validating 294 predictions with LLM...\n",
      "LLM validation completed. Results saved to Revised_Predictions/Final_predictions.csv\n"
     ]
    }
   ],
   "source": [
    "!python3 2_LLM_Validation.py --input_predictions Revised_Predictions/Post-Ontology_Predictions.csv \\\n",
    "                            --ontology_schema Schemas/ReTACRED_Schema.json \\\n",
    "                            --relations_spans Schemas/ReTACRED_Spans.json \\\n",
    "                            --prompt Prompts/qa4re_without_types.txt \\\n",
    "                            --api_key API_KEY.json \\\n",
    "                            --model gpt-4o \\\n",
    "                            --threshold 0.8 \\\n",
    "                            --output_predictions Revised_Predictions/Final_predictions.csv"
   ]
  },
  {
   "cell_type": "markdown",
   "id": "89b31d41-dace-4eda-ba7c-3a08e1fc1ab1",
   "metadata": {},
   "source": [
    "## EVALUATION"
   ]
  },
  {
   "cell_type": "code",
   "execution_count": 29,
   "id": "3a840702-a3c8-4219-8eef-7069bfeec75f",
   "metadata": {},
   "outputs": [
    {
     "name": "stdout",
     "output_type": "stream",
     "text": [
      "Per-relation statistics:\n",
      "org:alternate_names                  P:  96.22%  R:  98.22%  F1:  97.21%  #: 337\n",
      "org:city_of_branch                   P:  88.24%  R:  81.40%  F1:  84.68%  #: 129\n",
      "org:country_of_branch                P:  86.14%  R:  86.14%  F1:  86.14%  #: 166\n",
      "org:dissolved                        P:  28.57%  R:  40.00%  F1:  33.33%  #: 5\n",
      "org:founded                          P:  91.89%  R: 100.00%  F1:  95.77%  #: 34\n",
      "org:founded_by                       P:  93.98%  R:  92.86%  F1:  93.41%  #: 84\n",
      "org:member_of                        P:  75.81%  R:  73.44%  F1:  74.60%  #: 64\n",
      "org:members                          P:  79.03%  R:  77.78%  F1:  78.40%  #: 63\n",
      "org:number_of_employees/members      P: 100.00%  R:  92.31%  F1:  96.00%  #: 13\n",
      "org:political/religious_affiliation  P:  85.71%  R:  82.76%  F1:  84.21%  #: 29\n",
      "org:shareholders                     P: 100.00%  R:  16.67%  F1:  28.57%  #: 12\n",
      "org:stateorprovince_of_branch        P:  83.87%  R:  91.23%  F1:  87.39%  #: 57\n",
      "org:top_members/employees            P:  91.67%  R:  89.49%  F1:  90.57%  #: 295\n",
      "org:website                          P:  65.85%  R:  90.00%  F1:  76.06%  #: 30\n",
      "per:age                              P:  97.16%  R:  98.56%  F1:  97.85%  #: 208\n",
      "per:cause_of_death                   P:  74.51%  R:  76.00%  F1:  75.25%  #: 50\n",
      "per:charges                          P:  87.79%  R:  91.27%  F1:  89.49%  #: 126\n",
      "per:children                         P:  88.00%  R:  80.00%  F1:  83.81%  #: 55\n",
      "per:cities_of_residence              P:  82.79%  R:  80.80%  F1:  81.78%  #: 125\n",
      "per:city_of_birth                    P:  71.43%  R:  66.67%  F1:  68.97%  #: 15\n",
      "per:city_of_death                    P:  69.57%  R:  61.54%  F1:  65.31%  #: 26\n",
      "per:countries_of_residence           P:  74.26%  R:  68.24%  F1:  71.13%  #: 148\n",
      "per:country_of_death                 P: 100.00%  R:  35.71%  F1:  52.63%  #: 14\n",
      "per:date_of_birth                    P:  70.00%  R: 100.00%  F1:  82.35%  #: 7\n",
      "per:date_of_death                    P:  91.07%  R:  80.95%  F1:  85.71%  #: 63\n",
      "per:employee_of                      P:  82.14%  R:  90.06%  F1:  85.92%  #: 332\n",
      "per:identity                         P:  96.07%  R:  96.07%  F1:  96.07%  #: 2036\n",
      "per:origin                           P:  80.33%  R:  85.22%  F1:  82.70%  #: 115\n",
      "per:other_family                     P:  80.00%  R:  92.31%  F1:  85.71%  #: 52\n",
      "per:parents                          P:  92.23%  R:  89.62%  F1:  90.91%  #: 106\n",
      "per:religion                         P:  66.10%  R:  66.10%  F1:  66.10%  #: 59\n",
      "per:schools_attended                 P:  80.56%  R:  87.88%  F1:  84.06%  #: 33\n",
      "per:siblings                         P:  94.12%  R:  96.97%  F1:  95.52%  #: 66\n",
      "per:spouse                           P:  88.16%  R:  91.78%  F1:  89.93%  #: 73\n",
      "per:stateorprovince_of_birth         P:  87.50%  R:  77.78%  F1:  82.35%  #: 9\n",
      "per:stateorprovince_of_death         P: 100.00%  R:  56.25%  F1:  72.00%  #: 16\n",
      "per:stateorprovinces_of_residence    P:  85.07%  R:  78.08%  F1:  81.43%  #: 73\n",
      "per:title                            P:  93.52%  R:  96.56%  F1:  95.01%  #: 523\n",
      "\n",
      "Final Score:\n",
      "Precision (micro): 90.582%\n",
      "   Recall (micro): 90.935%\n",
      "       F1 (micro): 90.758%\n",
      "Initial predictions evaluation: Precision: 90.58%, Recall: 90.93%, F1: 90.76%\n",
      "Per-relation statistics:\n",
      "org:alternate_names                  P:  96.22%  R:  98.22%  F1:  97.21%  #: 337\n",
      "org:city_of_branch                   P:  88.24%  R:  81.40%  F1:  84.68%  #: 129\n",
      "org:country_of_branch                P:  86.14%  R:  86.14%  F1:  86.14%  #: 166\n",
      "org:dissolved                        P:  28.57%  R:  40.00%  F1:  33.33%  #: 5\n",
      "org:founded                          P:  91.89%  R: 100.00%  F1:  95.77%  #: 34\n",
      "org:founded_by                       P:  93.98%  R:  92.86%  F1:  93.41%  #: 84\n",
      "org:member_of                        P:  75.81%  R:  73.44%  F1:  74.60%  #: 64\n",
      "org:members                          P:  79.03%  R:  77.78%  F1:  78.40%  #: 63\n",
      "org:number_of_employees/members      P: 100.00%  R:  92.31%  F1:  96.00%  #: 13\n",
      "org:political/religious_affiliation  P:  85.71%  R:  82.76%  F1:  84.21%  #: 29\n",
      "org:shareholders                     P: 100.00%  R:  16.67%  F1:  28.57%  #: 12\n",
      "org:stateorprovince_of_branch        P:  83.87%  R:  91.23%  F1:  87.39%  #: 57\n",
      "org:top_members/employees            P:  91.99%  R:  89.49%  F1:  90.72%  #: 295\n",
      "org:website                          P:  65.85%  R:  90.00%  F1:  76.06%  #: 30\n",
      "per:age                              P:  97.16%  R:  98.56%  F1:  97.85%  #: 208\n",
      "per:cause_of_death                   P:  74.51%  R:  76.00%  F1:  75.25%  #: 50\n",
      "per:charges                          P:  87.79%  R:  91.27%  F1:  89.49%  #: 126\n",
      "per:children                         P:  91.67%  R:  80.00%  F1:  85.44%  #: 55\n",
      "per:cities_of_residence              P:  82.79%  R:  80.80%  F1:  81.78%  #: 125\n",
      "per:city_of_birth                    P:  71.43%  R:  66.67%  F1:  68.97%  #: 15\n",
      "per:city_of_death                    P:  69.57%  R:  61.54%  F1:  65.31%  #: 26\n",
      "per:countries_of_residence           P:  74.26%  R:  68.24%  F1:  71.13%  #: 148\n",
      "per:country_of_death                 P: 100.00%  R:  35.71%  F1:  52.63%  #: 14\n",
      "per:date_of_birth                    P:  70.00%  R: 100.00%  F1:  82.35%  #: 7\n",
      "per:date_of_death                    P:  91.07%  R:  80.95%  F1:  85.71%  #: 63\n",
      "per:employee_of                      P:  82.14%  R:  90.06%  F1:  85.92%  #: 332\n",
      "per:identity                         P:  96.07%  R:  96.07%  F1:  96.07%  #: 2036\n",
      "per:origin                           P:  80.33%  R:  85.22%  F1:  82.70%  #: 115\n",
      "per:other_family                     P:  80.00%  R:  92.31%  F1:  85.71%  #: 52\n",
      "per:parents                          P:  92.23%  R:  89.62%  F1:  90.91%  #: 106\n",
      "per:religion                         P:  66.10%  R:  66.10%  F1:  66.10%  #: 59\n",
      "per:schools_attended                 P:  85.29%  R:  87.88%  F1:  86.57%  #: 33\n",
      "per:siblings                         P:  94.12%  R:  96.97%  F1:  95.52%  #: 66\n",
      "per:spouse                           P:  91.78%  R:  91.78%  F1:  91.78%  #: 73\n",
      "per:stateorprovince_of_birth         P:  87.50%  R:  77.78%  F1:  82.35%  #: 9\n",
      "per:stateorprovince_of_death         P: 100.00%  R:  50.00%  F1:  66.67%  #: 16\n",
      "per:stateorprovinces_of_residence    P:  85.07%  R:  78.08%  F1:  81.43%  #: 73\n",
      "per:title                            P:  93.52%  R:  96.56%  F1:  95.01%  #: 523\n",
      "\n",
      "Final Score:\n",
      "Precision (micro): 90.708%\n",
      "   Recall (micro): 90.917%\n",
      "       F1 (micro): 90.813%\n",
      "Post-Ontology predictions evaluation: Precision: 90.71%, Recall: 90.92%, F1: 90.81%\n",
      "Per-relation statistics:\n",
      "org:alternate_names                  P:  96.76%  R:  97.33%  F1:  97.04%  #: 337\n",
      "org:city_of_branch                   P:  92.04%  R:  80.62%  F1:  85.95%  #: 129\n",
      "org:country_of_branch                P:  88.61%  R:  84.34%  F1:  86.42%  #: 166\n",
      "org:dissolved                        P: 100.00%  R:  40.00%  F1:  57.14%  #: 5\n",
      "org:founded                          P:  94.44%  R: 100.00%  F1:  97.14%  #: 34\n",
      "org:founded_by                       P:  93.98%  R:  92.86%  F1:  93.41%  #: 84\n",
      "org:member_of                        P:  80.36%  R:  70.31%  F1:  75.00%  #: 64\n",
      "org:members                          P:  81.36%  R:  76.19%  F1:  78.69%  #: 63\n",
      "org:number_of_employees/members      P: 100.00%  R:  76.92%  F1:  86.96%  #: 13\n",
      "org:political/religious_affiliation  P:  84.62%  R:  75.86%  F1:  80.00%  #: 29\n",
      "org:shareholders                     P: 100.00%  R:  16.67%  F1:  28.57%  #: 12\n",
      "org:stateorprovince_of_branch        P:  91.07%  R:  89.47%  F1:  90.27%  #: 57\n",
      "org:top_members/employees            P:  92.63%  R:  89.49%  F1:  91.03%  #: 295\n",
      "org:website                          P:  66.67%  R:  86.67%  F1:  75.36%  #: 30\n",
      "per:age                              P:  98.09%  R:  98.56%  F1:  98.32%  #: 208\n",
      "per:cause_of_death                   P:  77.08%  R:  74.00%  F1:  75.51%  #: 50\n",
      "per:charges                          P:  90.40%  R:  89.68%  F1:  90.04%  #: 126\n",
      "per:children                         P:  91.30%  R:  76.36%  F1:  83.17%  #: 55\n",
      "per:cities_of_residence              P:  87.72%  R:  80.00%  F1:  83.68%  #: 125\n",
      "per:city_of_birth                    P:  83.33%  R:  66.67%  F1:  74.07%  #: 15\n",
      "per:city_of_death                    P:  80.00%  R:  61.54%  F1:  69.57%  #: 26\n",
      "per:countries_of_residence           P:  77.17%  R:  66.22%  F1:  71.27%  #: 148\n",
      "per:country_of_death                 P: 100.00%  R:  35.71%  F1:  52.63%  #: 14\n",
      "per:date_of_birth                    P:  70.00%  R: 100.00%  F1:  82.35%  #: 7\n",
      "per:date_of_death                    P:  92.59%  R:  79.37%  F1:  85.47%  #: 63\n",
      "per:employee_of                      P:  84.05%  R:  88.86%  F1:  86.38%  #: 332\n",
      "per:identity                         P:  96.34%  R:  95.78%  F1:  96.06%  #: 2036\n",
      "per:origin                           P:  83.48%  R:  83.48%  F1:  83.48%  #: 115\n",
      "per:other_family                     P:  82.76%  R:  92.31%  F1:  87.27%  #: 52\n",
      "per:parents                          P:  93.07%  R:  88.68%  F1:  90.82%  #: 106\n",
      "per:religion                         P:  71.15%  R:  62.71%  F1:  66.67%  #: 59\n",
      "per:schools_attended                 P:  85.29%  R:  87.88%  F1:  86.57%  #: 33\n",
      "per:siblings                         P:  95.52%  R:  96.97%  F1:  96.24%  #: 66\n",
      "per:spouse                           P:  95.71%  R:  91.78%  F1:  93.71%  #: 73\n",
      "per:stateorprovince_of_birth         P:  87.50%  R:  77.78%  F1:  82.35%  #: 9\n",
      "per:stateorprovince_of_death         P: 100.00%  R:  50.00%  F1:  66.67%  #: 16\n",
      "per:stateorprovinces_of_residence    P:  89.06%  R:  78.08%  F1:  83.21%  #: 73\n",
      "per:title                            P:  94.03%  R:  96.37%  F1:  95.18%  #: 523\n",
      "\n",
      "Final Score:\n",
      "Precision (micro): 92.231%\n",
      "   Recall (micro): 90.174%\n",
      "       F1 (micro): 91.191%\n",
      "Final predictions evaluation: Precision: 92.23%, Recall: 90.17%, F1: 91.19%\n",
      "\n",
      "Impact of Ontology Validation: 0.05% F1 change\n",
      "Impact of LLM Validation: 0.38% F1 change\n",
      "Total Change in F1 Score: 0.43%\n"
     ]
    }
   ],
   "source": [
    "!python3 Evaluation.py --final_predictions Revised_Predictions/Final_predictions.csv"
   ]
  }
 ],
 "metadata": {
  "kernelspec": {
   "display_name": "Python 3 (ipykernel)",
   "language": "python",
   "name": "python3"
  },
  "language_info": {
   "codemirror_mode": {
    "name": "ipython",
    "version": 3
   },
   "file_extension": ".py",
   "mimetype": "text/x-python",
   "name": "python",
   "nbconvert_exporter": "python",
   "pygments_lexer": "ipython3",
   "version": "3.10.12"
  }
 },
 "nbformat": 4,
 "nbformat_minor": 5
}
